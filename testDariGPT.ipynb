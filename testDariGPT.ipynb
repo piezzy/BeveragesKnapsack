{
 "cells": [
  {
   "cell_type": "code",
   "execution_count": 3,
   "metadata": {},
   "outputs": [],
   "source": [
    "import numpy as np"
   ]
  },
  {
   "cell_type": "code",
   "execution_count": 22,
   "metadata": {},
   "outputs": [],
   "source": [
    "# Data produk dengan sugar (berat) dan protein (profit)\n",
    "products = [\n",
    "    (\"Milklife Chocolate UHT\", 19, 5),\n",
    "    (\"Nutriboost Mangga\", 31, 2),\n",
    "    (\"Bearbrand Susu Steril\", 9, 6),\n",
    "    (\"milku stroberi\", 22, 6),\n",
    "    (\"L-Men 2 Go\", 9, 12),\n",
    "    (\"Golda Dolce latte coffee\", 15, 2),\n",
    "    (\"Coffee Oat Milk - Oatside\", 10, 2),\n",
    "    (\"Oat Side Full Cream - Oatside\", 6, 1),\n",
    "    (\"Diamond Susu UHT Full Cream\", 6, 6),\n",
    "    (\"Vsoy cocoa\", 14, 9),\n",
    "    (\"Zaiyeonun yogur apple\", 11, 0.22),\n",
    "    (\"HiLo Teen HiProtein\", 22, 11),\n",
    "    (\"Tropicana slim almond drink\", 1, 4),\n",
    "    (\"Cimory Fresh Milk Full Cream\", 8, 7),\n",
    "]"
   ]
  },
  {
   "cell_type": "code",
   "execution_count": 23,
   "metadata": {},
   "outputs": [],
   "source": [
    "# Batas gula (sugar)\n",
    "max_sugar = 25"
   ]
  },
  {
   "cell_type": "code",
   "execution_count": 24,
   "metadata": {},
   "outputs": [],
   "source": [
    "# Mengambil sugar (weight) dan protein (profit) dari produk\n",
    "weights = [product[1] for product in products]  # sugar (weight)\n",
    "profits = [product[2] for product in products]  # protein (profit)\n",
    "names = [product[0] for product in products]   # product names"
   ]
  },
  {
   "cell_type": "code",
   "execution_count": 25,
   "metadata": {},
   "outputs": [],
   "source": [
    "# Jumlah produk\n",
    "n = len(products)"
   ]
  },
  {
   "cell_type": "code",
   "execution_count": 26,
   "metadata": {},
   "outputs": [],
   "source": [
    "# Inisialisasi DP table untuk knapsack\n",
    "dp = np.zeros((n + 1, max_sugar + 1))"
   ]
  },
  {
   "cell_type": "code",
   "execution_count": 27,
   "metadata": {},
   "outputs": [],
   "source": [
    "# Algoritma knapsack menggunakan DP\n",
    "for i in range(1, n + 1):\n",
    "    for w in range(max_sugar + 1):\n",
    "        if weights[i - 1] <= w:\n",
    "            dp[i][w] = max(dp[i - 1][w], dp[i - 1][w - weights[i - 1]] + profits[i - 1])\n",
    "        else:\n",
    "            dp[i][w] = dp[i - 1][w]"
   ]
  },
  {
   "cell_type": "code",
   "execution_count": 28,
   "metadata": {},
   "outputs": [],
   "source": [
    "# Backtracking untuk mencari produk yang dipilih\n",
    "selected_products = []\n",
    "total_sugar = 0 \n",
    "w = max_sugar\n",
    "for i in range(n, 0, -1):\n",
    "    if dp[i][w] != dp[i - 1][w]:\n",
    "        selected_products.append(names[i - 1])\n",
    "        total_sugar += weights[i - 1]\n",
    "        w -= weights[i - 1]"
   ]
  },
  {
   "cell_type": "code",
   "execution_count": 29,
   "metadata": {},
   "outputs": [],
   "source": [
    "# Protein maksimum yang dapat diperoleh\n",
    "max_protein = dp[n][max_sugar]"
   ]
  },
  {
   "cell_type": "code",
   "execution_count": 30,
   "metadata": {},
   "outputs": [
    {
     "name": "stdout",
     "output_type": "stream",
     "text": [
      "Produk yang dipilih: ['Cimory Fresh Milk Full Cream', 'Tropicana slim almond drink', 'Diamond Susu UHT Full Cream', 'L-Men 2 Go']\n"
     ]
    }
   ],
   "source": [
    "# Output produk yang dipilih dan total protein\n",
    "print(\"Produk yang dipilih:\", selected_products)"
   ]
  },
  {
   "cell_type": "code",
   "execution_count": 31,
   "metadata": {},
   "outputs": [
    {
     "name": "stdout",
     "output_type": "stream",
     "text": [
      "Protein maksimum: 29.0\n"
     ]
    }
   ],
   "source": [
    "print(\"Protein maksimum:\", max_protein)"
   ]
  },
  {
   "cell_type": "code",
   "execution_count": 32,
   "metadata": {},
   "outputs": [
    {
     "name": "stdout",
     "output_type": "stream",
     "text": [
      "Total gula yang terpilih: 24\n"
     ]
    }
   ],
   "source": [
    "print(\"Total gula yang terpilih:\", total_sugar)"
   ]
  }
 ],
 "metadata": {
  "kernelspec": {
   "display_name": "Python 3",
   "language": "python",
   "name": "python3"
  },
  "language_info": {
   "codemirror_mode": {
    "name": "ipython",
    "version": 3
   },
   "file_extension": ".py",
   "mimetype": "text/x-python",
   "name": "python",
   "nbconvert_exporter": "python",
   "pygments_lexer": "ipython3",
   "version": "3.11.5"
  }
 },
 "nbformat": 4,
 "nbformat_minor": 2
}
